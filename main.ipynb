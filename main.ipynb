{
 "cells": [
  {
   "cell_type": "code",
   "execution_count": 11,
   "metadata": {},
   "outputs": [],
   "source": [
    "#altalanos python modulok\n",
    "import pandas as pd\n",
    "\n",
    "# binance\n",
    "from binance import Client, ThreadedWebsocketManager, ThreadedDepthCacheManager\n",
    "\n",
    "# init \n",
    "api_key    = 'a9pzBzWrJiFEnBXQ6xrHDQIfxKMcKh63B4yS8V2HmnE7Xldl7Mge6nnXaWkc0WPc'\n",
    "api_secret = 'IK2Fm2uu2E3ouDuBoCxWAnSvUJgZZci2lZ9BRZ5b9K7YWuROWwwYepNi6mN7ifYW'\n",
    "client     = Client(api_key, api_secret)"
   ]
  },
  {
   "cell_type": "code",
   "execution_count": 54,
   "metadata": {},
   "outputs": [],
   "source": [
    "import importlib\n",
    "import DataOperator  \n",
    "import DataUpdater \n",
    "\n",
    "# Ha módosítottad\n",
    "importlib.reload(DataOperator)  \n",
    "importlib.reload(DataUpdater)  \n",
    "\n",
    "# Most használhatod az új osztályt:\n",
    "from DataOperator import DataOperator\n",
    "from DataUpdater  import DataUpdater "
   ]
  },
  {
   "cell_type": "code",
   "execution_count": 56,
   "metadata": {},
   "outputs": [],
   "source": [
    "# Az adatbázis elérési útja\n",
    "db_path = r'D:\\database\\sql_db.db'\n",
    "pair    = 'FTMUSDT'\n",
    "\n",
    "# Példányosítás a client-tel\n",
    "dataUpdaterObj = DataUpdater(client, db_path)"
   ]
  },
  {
   "cell_type": "code",
   "execution_count": 57,
   "metadata": {},
   "outputs": [],
   "source": [
    "dataUpdaterObj.get_db_times(pair=pair)\n",
    "dataUpdaterObj.download_coin_data('FTMUSDT','1m') "
   ]
  },
  {
   "cell_type": "code",
   "execution_count": 58,
   "metadata": {},
   "outputs": [
    {
     "name": "stdout",
     "output_type": "stream",
     "text": [
      "Start timestamp: 1731074400000\n",
      "End timestamp: 1731078000000\n",
      "Start open time: 2024-11-08 14:00:00\n",
      "End open time: 2024-11-08 15:00:00\n"
     ]
    },
    {
     "data": {
      "text/html": [
       "<div>\n",
       "<style scoped>\n",
       "    .dataframe tbody tr th:only-of-type {\n",
       "        vertical-align: middle;\n",
       "    }\n",
       "\n",
       "    .dataframe tbody tr th {\n",
       "        vertical-align: top;\n",
       "    }\n",
       "\n",
       "    .dataframe thead th {\n",
       "        text-align: right;\n",
       "    }\n",
       "</style>\n",
       "<table border=\"1\" class=\"dataframe\">\n",
       "  <thead>\n",
       "    <tr style=\"text-align: right;\">\n",
       "      <th></th>\n",
       "      <th>open_time</th>\n",
       "      <th>open_date_time</th>\n",
       "      <th>open</th>\n",
       "      <th>high</th>\n",
       "      <th>low</th>\n",
       "      <th>close</th>\n",
       "      <th>volume</th>\n",
       "    </tr>\n",
       "  </thead>\n",
       "  <tbody>\n",
       "    <tr>\n",
       "      <th>60</th>\n",
       "      <td>1731078000000</td>\n",
       "      <td>2024-11-08 16:00</td>\n",
       "      <td>0.7116</td>\n",
       "      <td>0.7145</td>\n",
       "      <td>0.7108</td>\n",
       "      <td>0.7145</td>\n",
       "      <td>45564.0</td>\n",
       "    </tr>\n",
       "    <tr>\n",
       "      <th>59</th>\n",
       "      <td>1731077940000</td>\n",
       "      <td>2024-11-08 15:59</td>\n",
       "      <td>0.7113</td>\n",
       "      <td>0.7121</td>\n",
       "      <td>0.7106</td>\n",
       "      <td>0.7115</td>\n",
       "      <td>54869.0</td>\n",
       "    </tr>\n",
       "  </tbody>\n",
       "</table>\n",
       "</div>"
      ],
      "text/plain": [
       "        open_time    open_date_time    open    high     low   close   volume\n",
       "60  1731078000000  2024-11-08 16:00  0.7116  0.7145  0.7108  0.7145  45564.0\n",
       "59  1731077940000  2024-11-08 15:59  0.7113  0.7121  0.7106  0.7115  54869.0"
      ]
     },
     "execution_count": 58,
     "metadata": {},
     "output_type": "execute_result"
    }
   ],
   "source": [
    "print(\"Start timestamp:\", dataUpdaterObj.dataOperatorObj.start_timestamp)\n",
    "print(\"End timestamp:\"  , dataUpdaterObj.dataOperatorObj.end_timestamp)\n",
    "print(\"Start open time:\", dataUpdaterObj.dataOperatorObj.start_open_time)\n",
    "print(\"End open time:\"  , dataUpdaterObj.dataOperatorObj.end_open_time) \n",
    "dataUpdaterObj.dataOperatorObj.raw_data.head(2)"
   ]
  },
  {
   "cell_type": "code",
   "execution_count": 62,
   "metadata": {},
   "outputs": [
    {
     "name": "stdout",
     "output_type": "stream",
     "text": [
      "Data inserted successfully.\n"
     ]
    }
   ],
   "source": [
    "dataUpdaterObj.insert_raw_data_to_db()"
   ]
  },
  {
   "cell_type": "code",
   "execution_count": 63,
   "metadata": {},
   "outputs": [
    {
     "data": {
      "text/plain": [
       "{'count': 61,\n",
       " 'min_open_date_time': '2024-11-08 15:00',\n",
       " 'max_open_date_time': '2024-11-08 16:00'}"
      ]
     },
     "execution_count": 63,
     "metadata": {},
     "output_type": "execute_result"
    }
   ],
   "source": [
    "dataUpdaterObj.get_pair_summary()"
   ]
  },
  {
   "cell_type": "code",
   "execution_count": 65,
   "metadata": {},
   "outputs": [
    {
     "name": "stdout",
     "output_type": "stream",
     "text": [
      "Start timestamp: 1731074400000\n",
      "End timestamp: 1731078000000\n",
      "Start open time: 2024-11-08 14:00:00\n",
      "End open time: 2024-11-08 15:00:00\n"
     ]
    }
   ],
   "source": [
    "dataUpdaterObj.get_db_times(pair=pair)\n",
    "print(\"Start timestamp:\", dataUpdaterObj.dataOperatorObj.start_timestamp)\n",
    "print(\"End timestamp:\"  , dataUpdaterObj.dataOperatorObj.end_timestamp)\n",
    "print(\"Start open time:\", dataUpdaterObj.dataOperatorObj.start_open_time)\n",
    "print(\"End open time:\"  , dataUpdaterObj.dataOperatorObj.end_open_time) "
   ]
  },
  {
   "cell_type": "markdown",
   "metadata": {},
   "source": [
    "és akkor most jön az, hogy a db állapota alapján a start-ot plus 1 percre kell tenni\n",
    "és 1 órányit beállítani plusz az end-re"
   ]
  }
 ],
 "metadata": {
  "kernelspec": {
   "display_name": "Python 3",
   "language": "python",
   "name": "python3"
  },
  "language_info": {
   "codemirror_mode": {
    "name": "ipython",
    "version": 3
   },
   "file_extension": ".py",
   "mimetype": "text/x-python",
   "name": "python",
   "nbconvert_exporter": "python",
   "pygments_lexer": "ipython3",
   "version": "3.12.2"
  }
 },
 "nbformat": 4,
 "nbformat_minor": 2
}
