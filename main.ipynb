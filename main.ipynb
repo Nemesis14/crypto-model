{
 "cells": [
  {
   "cell_type": "code",
   "execution_count": 3,
   "metadata": {},
   "outputs": [],
   "source": [
    "#altalanos python modulok\n",
    "import pandas as pd\n",
    "from binance import Client\n",
    "import importlib\n",
    "import sys\n",
    "import os\n",
    "\n",
    "# init \n",
    "api_key    = 'a9pzBzWrJiFEnBXQ6xrHDQIfxKMcKh63B4yS8V2HmnE7Xldl7Mge6nnXaWkc0WPc'\n",
    "api_secret = 'IK2Fm2uu2E3ouDuBoCxWAnSvUJgZZci2lZ9BRZ5b9K7YWuROWwwYepNi6mN7ifYW'\n",
    "client     = Client(api_key, api_secret)\n",
    "\n",
    "# Add hozzá az 'src' mappát az elérési utakhoz\n",
    "sys.path.append(os.path.join(os.getcwd(), 'src'))\n",
    "import data_operator  \n",
    "import data_updater \n",
    "\n",
    "# Ha módosítottad\n",
    "importlib.reload(data_operator)  \n",
    "importlib.reload(data_updater)  \n",
    "\n",
    "# Most használhatod az új osztályt:\n",
    "from data_operator import data_operator\n",
    "from data_updater  import data_updater"
   ]
  },
  {
   "cell_type": "code",
   "execution_count": 4,
   "metadata": {},
   "outputs": [
    {
     "data": {
      "text/html": [
       "<div>\n",
       "<style scoped>\n",
       "    .dataframe tbody tr th:only-of-type {\n",
       "        vertical-align: middle;\n",
       "    }\n",
       "\n",
       "    .dataframe tbody tr th {\n",
       "        vertical-align: top;\n",
       "    }\n",
       "\n",
       "    .dataframe thead th {\n",
       "        text-align: right;\n",
       "    }\n",
       "</style>\n",
       "<table border=\"1\" class=\"dataframe\">\n",
       "  <thead>\n",
       "    <tr style=\"text-align: right;\">\n",
       "      <th></th>\n",
       "      <th>open_time</th>\n",
       "      <th>open_date_time</th>\n",
       "      <th>open</th>\n",
       "      <th>high</th>\n",
       "      <th>low</th>\n",
       "      <th>close</th>\n",
       "      <th>volume</th>\n",
       "    </tr>\n",
       "  </thead>\n",
       "  <tbody>\n",
       "    <tr>\n",
       "      <th>24</th>\n",
       "      <td>1609545600000</td>\n",
       "      <td>2021-01-02 01:00</td>\n",
       "      <td>0.01719</td>\n",
       "      <td>0.01719</td>\n",
       "      <td>0.01633</td>\n",
       "      <td>0.01655</td>\n",
       "      <td>11268813.5</td>\n",
       "    </tr>\n",
       "    <tr>\n",
       "      <th>23</th>\n",
       "      <td>1609542000000</td>\n",
       "      <td>2021-01-02 00:00</td>\n",
       "      <td>0.01715</td>\n",
       "      <td>0.01724</td>\n",
       "      <td>0.01713</td>\n",
       "      <td>0.01719</td>\n",
       "      <td>649021.8</td>\n",
       "    </tr>\n",
       "    <tr>\n",
       "      <th>22</th>\n",
       "      <td>1609538400000</td>\n",
       "      <td>2021-01-01 23:00</td>\n",
       "      <td>0.01704</td>\n",
       "      <td>0.01725</td>\n",
       "      <td>0.01699</td>\n",
       "      <td>0.01718</td>\n",
       "      <td>3736971.0</td>\n",
       "    </tr>\n",
       "  </tbody>\n",
       "</table>\n",
       "</div>"
      ],
      "text/plain": [
       "        open_time    open_date_time     open     high      low    close  \\\n",
       "24  1609545600000  2021-01-02 01:00  0.01719  0.01719  0.01633  0.01655   \n",
       "23  1609542000000  2021-01-02 00:00  0.01715  0.01724  0.01713  0.01719   \n",
       "22  1609538400000  2021-01-01 23:00  0.01704  0.01725  0.01699  0.01718   \n",
       "\n",
       "        volume  \n",
       "24  11268813.5  \n",
       "23    649021.8  \n",
       "22   3736971.0  "
      ]
     },
     "execution_count": 4,
     "metadata": {},
     "output_type": "execute_result"
    }
   ],
   "source": [
    "# init \n",
    "api_key    = 'a9pzBzWrJiFEnBXQ6xrHDQIfxKMcKh63B4yS8V2HmnE7Xldl7Mge6nnXaWkc0WPc'\n",
    "api_secret = 'IK2Fm2uu2E3ouDuBoCxWAnSvUJgZZci2lZ9BRZ5b9K7YWuROWwwYepNi6mN7ifYW'\n",
    "client     = Client(api_key, api_secret)\n",
    "db_path    = r'D:\\database\\sql_db.db'\n",
    "\n",
    "# Kezdő és záró dátumok stringként\n",
    "pair            = 'FTMUSDT'\n",
    "interval        = '1h'\n",
    "start_open_time = '2021-01-01 00:00'\n",
    "end_open_time   = '2021-01-02 00:00'\n",
    "\n",
    "# DataOperator példányosítása\n",
    "data_operator = data_operator(client, pair, interval, start_open_time=start_open_time, end_open_time=end_open_time)\n",
    "data_operator.fetch_data()\n",
    "data_operator.raw_data.head(3)"
   ]
  },
  {
   "cell_type": "code",
   "execution_count": 3,
   "metadata": {},
   "outputs": [],
   "source": [
    "# Példányosítás a client-tel\n",
    "data_update_ftm = data_updater(client, db_path, pair)"
   ]
  },
  {
   "cell_type": "code",
   "execution_count": 4,
   "metadata": {},
   "outputs": [],
   "source": [
    "data_update_ftm.get_db_tables()"
   ]
  },
  {
   "cell_type": "code",
   "execution_count": null,
   "metadata": {},
   "outputs": [],
   "source": [
    "data_update_ftm.update_raw_table() "
   ]
  },
  {
   "cell_type": "markdown",
   "metadata": {},
   "source": [
    "és akkor most jön az, hogy a db állapota alapján a start-ot plus 1 percre kell tenni\n",
    "és 1 órányit beállítani plusz az end-re"
   ]
  }
 ],
 "metadata": {
  "kernelspec": {
   "display_name": "Python 3",
   "language": "python",
   "name": "python3"
  },
  "language_info": {
   "codemirror_mode": {
    "name": "ipython",
    "version": 3
   },
   "file_extension": ".py",
   "mimetype": "text/x-python",
   "name": "python",
   "nbconvert_exporter": "python",
   "pygments_lexer": "ipython3",
   "version": "3.12.2"
  }
 },
 "nbformat": 4,
 "nbformat_minor": 2
}
