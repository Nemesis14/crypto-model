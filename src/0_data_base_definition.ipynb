{
 "cells": [
  {
   "cell_type": "markdown",
   "id": "c326042c",
   "metadata": {},
   "source": [
    "# Modulok"
   ]
  },
  {
   "cell_type": "code",
   "execution_count": 7,
   "id": "b97edf79",
   "metadata": {},
   "outputs": [],
   "source": [
    "# moduls\n",
    "import sqlite3\n",
    "from datetime import datetime, timedelta\n",
    "import pandas as pd\n",
    "\n",
    "# Datetime adapter regisztrálása\n",
    "sqlite3.register_adapter(datetime, lambda dt: dt.isoformat())  # A datetime ISO formátumúra konvertálása\n",
    "\n",
    "# Kapcsolat az adatbázishoz\n",
    "conn = sqlite3.connect(r'D:\\database\\sql_db.db')  \n",
    "c    = conn.cursor()"
   ]
  },
  {
   "cell_type": "markdown",
   "id": "1a2938c9",
   "metadata": {},
   "source": [
    "# Time Data alap tábla létrehozása"
   ]
  },
  {
   "cell_type": "code",
   "execution_count": 2,
   "id": "e337631b",
   "metadata": {},
   "outputs": [],
   "source": [
    "# Tábla törlése, ha már létezik\n",
    "c.execute('DROP TABLE IF EXISTS time_data')\n",
    "\n",
    "# Tábla létrehozása: open_time és open_date_time oszlopokkal\n",
    "c.execute('''\n",
    "CREATE TABLE IF NOT EXISTS time_data (\n",
    "    open_time INT UNIQUE,             -- Egyedi kulcs az open_time oszlophoz (timestamp)\n",
    "    open_date_time TEXT UNIQUE        -- Egyedi kulcs az open_date_time oszlophoz (formázott dátum)\n",
    ")\n",
    "''')\n",
    "\n",
    "# Időbélyegek feltöltése 2017-08-17 06:00:00-tól 2024-12-31 23:59-ig\n",
    "start_time = datetime(2021, 12, 31, 23, 59)  # Kezdő időpont\n",
    "end_time   = datetime(2025, 12, 31, 23, 59)  # Befejező időpont\n",
    "\n",
    "current_time = start_time\n",
    "\n",
    "# Feltöltés percenkénti időközönként\n",
    "while current_time <= end_time:\n",
    "    # Timestamp beszúrása: open_time az int (timestamp)\n",
    "    open_time = int(current_time.timestamp()) * 1000  # Milliszekundumban tároljuk\n",
    "    # Dátum és idő formázása: open_date_time a formázott szöveg\n",
    "    open_date_time = current_time.strftime('%Y-%m-%d %H:%M')  # Formázott dátum és idő (pl. '2024-11-08 12:00')\n",
    "    \n",
    "    # Beszúrás az adatbázisba\n",
    "    c.execute('INSERT OR IGNORE INTO time_data (open_time, open_date_time) VALUES (?, ?)', \n",
    "              (open_time, open_date_time))\n",
    "    current_time += timedelta(minutes=1)  # 1 perces lépés\n",
    "\n",
    "# Változtatások mentése\n",
    "conn.commit()"
   ]
  },
  {
   "cell_type": "markdown",
   "id": "4c42d320",
   "metadata": {},
   "source": [
    "### check data"
   ]
  },
  {
   "cell_type": "code",
   "execution_count": 13,
   "id": "213ae450",
   "metadata": {},
   "outputs": [
    {
     "data": {
      "text/html": [
       "<div>\n",
       "<style scoped>\n",
       "    .dataframe tbody tr th:only-of-type {\n",
       "        vertical-align: middle;\n",
       "    }\n",
       "\n",
       "    .dataframe tbody tr th {\n",
       "        vertical-align: top;\n",
       "    }\n",
       "\n",
       "    .dataframe thead th {\n",
       "        text-align: right;\n",
       "    }\n",
       "</style>\n",
       "<table border=\"1\" class=\"dataframe\">\n",
       "  <thead>\n",
       "    <tr style=\"text-align: right;\">\n",
       "      <th></th>\n",
       "      <th>min(open_time)</th>\n",
       "      <th>max(open_time)</th>\n",
       "      <th>min(open_date_time)</th>\n",
       "      <th>max(open_date_time)</th>\n",
       "      <th>count(*)</th>\n",
       "      <th>count(distinct open_time)</th>\n",
       "    </tr>\n",
       "  </thead>\n",
       "  <tbody>\n",
       "    <tr>\n",
       "      <th>0</th>\n",
       "      <td>1640991540000</td>\n",
       "      <td>1767221940000</td>\n",
       "      <td>2021-12-31 23:59</td>\n",
       "      <td>2025-12-31 23:59</td>\n",
       "      <td>2103601</td>\n",
       "      <td>2103601</td>\n",
       "    </tr>\n",
       "  </tbody>\n",
       "</table>\n",
       "</div>"
      ],
      "text/plain": [
       "   min(open_time)  max(open_time) min(open_date_time) max(open_date_time)  \\\n",
       "0   1640991540000   1767221940000    2021-12-31 23:59    2025-12-31 23:59   \n",
       "\n",
       "   count(*)  count(distinct open_time)  \n",
       "0   2103601                    2103601  "
      ]
     },
     "execution_count": 13,
     "metadata": {},
     "output_type": "execute_result"
    }
   ],
   "source": [
    "# Adatbázis kapcsolat létrehozása\n",
    "pd.read_sql_query(\n",
    "    \"\"\"\n",
    "    SELECT min(open_time), max(open_time), min(open_date_time), max(open_date_time), count(*), count(distinct open_time) \n",
    "    FROM time_data\n",
    "    \"\"\", \n",
    "conn)"
   ]
  },
  {
   "cell_type": "code",
   "execution_count": 8,
   "id": "9e44008d",
   "metadata": {},
   "outputs": [
    {
     "data": {
      "text/html": [
       "<div>\n",
       "<style scoped>\n",
       "    .dataframe tbody tr th:only-of-type {\n",
       "        vertical-align: middle;\n",
       "    }\n",
       "\n",
       "    .dataframe tbody tr th {\n",
       "        vertical-align: top;\n",
       "    }\n",
       "\n",
       "    .dataframe thead th {\n",
       "        text-align: right;\n",
       "    }\n",
       "</style>\n",
       "<table border=\"1\" class=\"dataframe\">\n",
       "  <thead>\n",
       "    <tr style=\"text-align: right;\">\n",
       "      <th></th>\n",
       "      <th>open_time</th>\n",
       "      <th>open_date_time</th>\n",
       "    </tr>\n",
       "  </thead>\n",
       "  <tbody>\n",
       "    <tr>\n",
       "      <th>0</th>\n",
       "      <td>1767221940000</td>\n",
       "      <td>2025-12-31 23:59</td>\n",
       "    </tr>\n",
       "    <tr>\n",
       "      <th>1</th>\n",
       "      <td>1767221880000</td>\n",
       "      <td>2025-12-31 23:58</td>\n",
       "    </tr>\n",
       "    <tr>\n",
       "      <th>2</th>\n",
       "      <td>1767221820000</td>\n",
       "      <td>2025-12-31 23:57</td>\n",
       "    </tr>\n",
       "  </tbody>\n",
       "</table>\n",
       "</div>"
      ],
      "text/plain": [
       "       open_time    open_date_time\n",
       "0  1767221940000  2025-12-31 23:59\n",
       "1  1767221880000  2025-12-31 23:58\n",
       "2  1767221820000  2025-12-31 23:57"
      ]
     },
     "execution_count": 8,
     "metadata": {},
     "output_type": "execute_result"
    }
   ],
   "source": [
    "pd.read_sql_query(\n",
    "\"\"\" SELECT * \n",
    "    FROM time_data \n",
    "    ORDER BY open_time DESC limit 3\n",
    "\"\"\", conn)"
   ]
  },
  {
   "cell_type": "markdown",
   "id": "d2b939b9",
   "metadata": {},
   "source": [
    "# FTM alap adat tábla"
   ]
  },
  {
   "cell_type": "code",
   "execution_count": 14,
   "id": "6380cec6",
   "metadata": {},
   "outputs": [],
   "source": [
    "# Tábla törlése, ha létezik\n",
    "c.execute('DROP TABLE IF EXISTS ftm_raw_data')\n",
    "\n",
    "# Tábla definiálása\n",
    "c.execute('''\n",
    "CREATE TABLE IF NOT EXISTS ftm_raw_data (\n",
    "    open_time INT UNIQUE,             -- Egyedi kulcs az open_time oszlophoz\n",
    "    open_date_time TEXT UNIQUE,       -- Egyedi kulcs az open_date_time oszlophoz\n",
    "    open FLOAT, \n",
    "    high FLOAT, \n",
    "    low FLOAT, \n",
    "    close FLOAT,\n",
    "    volume FLOAT\n",
    ")\n",
    "''')\n",
    "\n",
    "conn.commit()"
   ]
  },
  {
   "cell_type": "code",
   "execution_count": 15,
   "id": "04fd0c51",
   "metadata": {},
   "outputs": [
    {
     "data": {
      "text/html": [
       "<div>\n",
       "<style scoped>\n",
       "    .dataframe tbody tr th:only-of-type {\n",
       "        vertical-align: middle;\n",
       "    }\n",
       "\n",
       "    .dataframe tbody tr th {\n",
       "        vertical-align: top;\n",
       "    }\n",
       "\n",
       "    .dataframe thead th {\n",
       "        text-align: right;\n",
       "    }\n",
       "</style>\n",
       "<table border=\"1\" class=\"dataframe\">\n",
       "  <thead>\n",
       "    <tr style=\"text-align: right;\">\n",
       "      <th></th>\n",
       "      <th>open_time</th>\n",
       "      <th>open_date_time</th>\n",
       "      <th>open</th>\n",
       "      <th>high</th>\n",
       "      <th>low</th>\n",
       "      <th>close</th>\n",
       "      <th>volume</th>\n",
       "    </tr>\n",
       "  </thead>\n",
       "  <tbody>\n",
       "  </tbody>\n",
       "</table>\n",
       "</div>"
      ],
      "text/plain": [
       "Empty DataFrame\n",
       "Columns: [open_time, open_date_time, open, high, low, close, volume]\n",
       "Index: []"
      ]
     },
     "execution_count": 15,
     "metadata": {},
     "output_type": "execute_result"
    }
   ],
   "source": [
    "pd.read_sql_query(\"\"\"select * from ftm_raw_data\"\"\",conn)"
   ]
  }
 ],
 "metadata": {
  "kernelspec": {
   "display_name": "Python 3",
   "language": "python",
   "name": "python3"
  },
  "language_info": {
   "codemirror_mode": {
    "name": "ipython",
    "version": 3
   },
   "file_extension": ".py",
   "mimetype": "text/x-python",
   "name": "python",
   "nbconvert_exporter": "python",
   "pygments_lexer": "ipython3",
   "version": "3.12.2"
  }
 },
 "nbformat": 4,
 "nbformat_minor": 5
}
